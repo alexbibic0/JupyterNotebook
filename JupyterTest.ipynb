{
 "cells": [
  {
   "cell_type": "markdown",
   "id": "95d6a85b",
   "metadata": {},
   "source": [
    "# Data Science Tools and Ecosystem"
   ]
  },
  {
   "cell_type": "markdown",
   "id": "193a52df",
   "metadata": {},
   "source": [
    "In this notebook, Data Science Tools and Ecosystem are summarise"
   ]
  },
  {
   "cell_type": "markdown",
   "id": "30afec4e",
   "metadata": {},
   "source": [
    "**Objectives:**\n",
    "* Data science languages\n",
    "* Commonly used libraries\n",
    "* Data science tools"
   ]
  },
  {
   "cell_type": "markdown",
   "id": "0751b490",
   "metadata": {},
   "source": [
    "Some of the most popular languages used for Data Science are:\n",
    "1. Python\n",
    "2. R\n",
    "3. Java"
   ]
  },
  {
   "cell_type": "markdown",
   "id": "4ef1a524",
   "metadata": {},
   "source": [
    "Some of the more commonly used libraries by Data Scientists are:\n",
    "1. Matplotlib - graphs and plots\n",
    "2. Pandas - data structures\n",
    "3. ggplot - data visualization"
   ]
  },
  {
   "cell_type": "markdown",
   "id": "447d2666",
   "metadata": {},
   "source": [
    "| Data Science Tools |\n",
    "|--------------------|\n",
    "| Jupyter Notebook   |\n",
    "| RSudio   |\n",
    "| VS Code  |"
   ]
  },
  {
   "cell_type": "markdown",
   "id": "ffab4ecc",
   "metadata": {},
   "source": [
    "### Below are a few examples of evaluating arithmetic expressions in Python"
   ]
  },
  {
   "cell_type": "code",
   "execution_count": 3,
   "id": "cf52d4c9",
   "metadata": {},
   "outputs": [
    {
     "data": {
      "text/plain": [
       "17"
      ]
     },
     "execution_count": 3,
     "metadata": {},
     "output_type": "execute_result"
    }
   ],
   "source": [
    "# This a simple arithmetic expression to mutiply then add integers\n",
    "\n",
    "(3*4)+5"
   ]
  },
  {
   "cell_type": "code",
   "execution_count": 4,
   "id": "1ad686fe",
   "metadata": {},
   "outputs": [
    {
     "data": {
      "text/plain": [
       "3.3333333333333335"
      ]
     },
     "execution_count": 4,
     "metadata": {},
     "output_type": "execute_result"
    }
   ],
   "source": [
    "# This will convert 200 minutes to hours by diving by 60\n",
    "\n",
    "200/60"
   ]
  },
  {
   "cell_type": "markdown",
   "id": "cd3c03f8",
   "metadata": {},
   "source": [
    "## Author\n",
    "Alex Bibic"
   ]
  },
  {
   "cell_type": "code",
   "execution_count": null,
   "id": "b5c5dac5",
   "metadata": {},
   "outputs": [],
   "source": []
  }
 ],
 "metadata": {
  "kernelspec": {
   "display_name": "Python 3 (ipykernel)",
   "language": "python",
   "name": "python3"
  },
  "language_info": {
   "codemirror_mode": {
    "name": "ipython",
    "version": 3
   },
   "file_extension": ".py",
   "mimetype": "text/x-python",
   "name": "python",
   "nbconvert_exporter": "python",
   "pygments_lexer": "ipython3",
   "version": "3.10.9"
  }
 },
 "nbformat": 4,
 "nbformat_minor": 5
}
